{
  "nbformat": 4,
  "nbformat_minor": 0,
  "metadata": {
    "colab": {
      "name": "DrBC.ipynb",
      "provenance": [],
      "collapsed_sections": [],
      "authorship_tag": "ABX9TyOr3hSwCAeE2ymmEQV5x/64",
      "include_colab_link": true
    },
    "kernelspec": {
      "name": "python3",
      "display_name": "Python 3"
    },
    "accelerator": "GPU"
  },
  "cells": [
    {
      "cell_type": "markdown",
      "metadata": {
        "id": "view-in-github",
        "colab_type": "text"
      },
      "source": [
        "<a href=\"https://colab.research.google.com/github/PinmanHuang/MLG/blob/master/DrBC.ipynb\" target=\"_parent\"><img src=\"https://colab.research.google.com/assets/colab-badge.svg\" alt=\"Open In Colab\"/></a>"
      ]
    },
    {
      "cell_type": "code",
      "metadata": {
        "id": "xwkLHFjOVh4F",
        "colab_type": "code",
        "colab": {}
      },
      "source": [
        "import torch"
      ],
      "execution_count": 0,
      "outputs": []
    },
    {
      "cell_type": "markdown",
      "metadata": {
        "id": "wIKe3FgGoJqz",
        "colab_type": "text"
      },
      "source": [
        "# Upload and Read Data\n",
        "\n"
      ]
    },
    {
      "cell_type": "code",
      "metadata": {
        "id": "ulr4F9tFbO2b",
        "colab_type": "code",
        "colab": {}
      },
      "source": [
        "# upload file into colab\n",
        "from google.colab import files\n",
        "uploaded = files.upload()"
      ],
      "execution_count": 0,
      "outputs": []
    },
    {
      "cell_type": "code",
      "metadata": {
        "id": "t94L-842l27d",
        "colab_type": "code",
        "colab": {}
      },
      "source": [
        "# read upload data\n",
        "import io\n",
        "from numpy import genfromtxt\n",
        "my_data = genfromtxt(io.BytesIO(uploaded['0.txt']), delimiter='\\t')"
      ],
      "execution_count": 0,
      "outputs": []
    },
    {
      "cell_type": "markdown",
      "metadata": {
        "id": "btZJtSt1ti6w",
        "colab_type": "text"
      },
      "source": [
        "# Initialization\n",
        "\n",
        "##### Input\n",
        "\n",
        "*   \\\\( G=(V, E) \\\\)\n",
        "*   \\\\( X_v = \\left[ d_v, 1, 1 \\right] \\\\)\n",
        "*   \\\\( h_v^{\\left ( 0\\right )} = X_v \\\\)\n",
        "\n",
        "\n"
      ]
    },
    {
      "cell_type": "code",
      "metadata": {
        "id": "hJ1MmbCA9vkr",
        "colab_type": "code",
        "colab": {}
      },
      "source": [
        "import networkx as nx\n",
        "\n",
        "# calculate node degree\n",
        "def cal_degree(graph): \n",
        "    G = nx.Graph()\n",
        "    for val in graph:\n",
        "        G.add_edge(val[0], val[1])\n",
        "\n",
        "    return G.degree(), G\n",
        "\n",
        "# create X = hv(0)\n",
        "def create_features(graph):\n",
        "    d, G = cal_degree(graph)\n",
        "    X_ary = []\n",
        "    for i in range(len(d)):\n",
        "        X_ary.append([d[i], 1, 1])\n",
        "    X = torch.tensor(X_ary)\n",
        "    return G, d, X\n",
        "\n"
      ],
      "execution_count": 0,
      "outputs": []
    },
    {
      "cell_type": "code",
      "metadata": {
        "id": "XFhbYcCXwTKK",
        "colab_type": "code",
        "colab": {}
      },
      "source": [
        "G, d, X = create_features(my_data)\n",
        "node_num = len(X)"
      ],
      "execution_count": 0,
      "outputs": []
    },
    {
      "cell_type": "markdown",
      "metadata": {
        "id": "giSrepphwdGQ",
        "colab_type": "text"
      },
      "source": [
        "# DrBC Network\n",
        "\n",
        "\n",
        "\n"
      ]
    },
    {
      "cell_type": "code",
      "metadata": {
        "id": "o3oonH8NpfgL",
        "colab_type": "code",
        "colab": {}
      },
      "source": [
        "class Net(torch.nn.Module):\n",
        "    def __init__(self, D_in = 3, H = 2, num_units = 128):\n",
        "        super(Net, self).__init__()\n",
        "\n",
        "        self.D_in = D_in\n",
        "        self.H = H\n",
        "        self.num_units = num_units\n",
        "\n",
        "        self.fc1 = torch.nn.Linear(self.D_in, self.num_units, bias=False)\n",
        "        self.gru1 = torch.nn.GRUCell(self.num_units, self.num_units, bias=False)\n",
        "        self.gru2 = torch.nn.GRUCell(self.num_units, self.num_units, bias=False)\n",
        "        self.fc2 = torch.nn.Linear(self.num_units, int(self.num_units / 2), bias=False)\n",
        "        self.fc3 = torch.nn.Linear(int(self.num_units / 2), 1, bias=False)\n",
        "\n",
        "        # matrix of neighborhood\n",
        "        self.neighbor = torch.zeros([node_num, node_num], dtype=torch.float32)\n",
        "        e = [e for e in G.edges]\n",
        "        for node in e[:5]:\n",
        "            self.neighbor[int(node[0]), int(node[1])] = self.neighbor[int(node[1]), int(node[0])] = 1\n",
        "\n",
        "        # matrix of aggregation weight\n",
        "        self.aggregation_w = torch.zeros([node_num, node_num], dtype=torch.float32)\n",
        "        for i in range(node_num):\n",
        "            di = float(d[i])\n",
        "            if i%500 == 0:\n",
        "                print(\"calculating aggregation weights: {}/{}\".format(i, node_num))\n",
        "            for j in range (i):\n",
        "                dj = float(d[j])\n",
        "                self.aggregation_w[i, j] = self.aggregation_w[j, i] = 1/(((dj+1)**0.5) * ((di+1)**0.5))                \n",
        "\n",
        "\n",
        "    def forward(self, x):\n",
        "        # Encoding\n",
        "        # ======================================================================\n",
        "        # Initial Feature\n",
        "        h0 = x\n",
        "        h1 = self.fc1(h0).clamp(min=0)\n",
        "        h1 = torch.nn.functional.normalize(h1)\n",
        "\n",
        "        # 1st layer\n",
        "        ##########################\n",
        "        # Neighborhood Aggregation\n",
        "        h2n = torch.mm(self.neighbor * self.aggregation_w, h1)\n",
        "        # Combine Function\n",
        "        h2 = self.gru1(h1, h2n)\n",
        "        h2 = torch.nn.functional.normalize(h2)\n",
        "\n",
        "        # 2nd layer\n",
        "        ##########################\n",
        "        # Neighborhood Aggregation\n",
        "        h3n = torch.mm(self.neighbor * self.aggregation_w, h2)\n",
        "        # Combine Function\n",
        "        h3 = self.gru2(h2, h3n)\n",
        "        h3 = torch.nn.functional.normalize(h3)\n",
        "\n",
        "        # Layer Aggregation\n",
        "        z = torch.max(torch.max(h1, h2), h3)\n",
        "\n",
        "        # Decoder\n",
        "        # ======================================================================\n",
        "        y = self.fc2(z).clamp(min=0)\n",
        "        y = self.fc3(y)\n",
        "\n",
        "        return y"
      ],
      "execution_count": 0,
      "outputs": []
    },
    {
      "cell_type": "markdown",
      "metadata": {
        "id": "s1Dgkk4-IOHx",
        "colab_type": "text"
      },
      "source": [
        "# Training"
      ]
    },
    {
      "cell_type": "code",
      "metadata": {
        "id": "12DluDBn6tkx",
        "colab_type": "code",
        "outputId": "5b1ffe1a-ae8a-4d5d-b2e0-43b25f18357d",
        "colab": {
          "base_uri": "https://localhost:8080/",
          "height": 306
        }
      },
      "source": [
        "model = Net()\n",
        "print(model)"
      ],
      "execution_count": 11,
      "outputs": [
        {
          "output_type": "stream",
          "text": [
            "calculating aggregation weights: 0/5000\n",
            "calculating aggregation weights: 500/5000\n",
            "calculating aggregation weights: 1000/5000\n",
            "calculating aggregation weights: 1500/5000\n",
            "calculating aggregation weights: 2000/5000\n",
            "calculating aggregation weights: 2500/5000\n",
            "calculating aggregation weights: 3000/5000\n",
            "calculating aggregation weights: 3500/5000\n",
            "calculating aggregation weights: 4000/5000\n",
            "calculating aggregation weights: 4500/5000\n",
            "Net(\n",
            "  (fc1): Linear(in_features=3, out_features=128, bias=False)\n",
            "  (gru1): GRUCell(128, 128, bias=False)\n",
            "  (gru2): GRUCell(128, 128, bias=False)\n",
            "  (fc2): Linear(in_features=128, out_features=64, bias=False)\n",
            "  (fc3): Linear(in_features=64, out_features=1, bias=False)\n",
            ")\n"
          ],
          "name": "stdout"
        }
      ]
    }
  ]
}