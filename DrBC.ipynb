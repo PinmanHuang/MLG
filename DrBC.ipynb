{
  "nbformat": 4,
  "nbformat_minor": 0,
  "metadata": {
    "colab": {
      "name": "DrBC.ipynb",
      "provenance": [],
      "collapsed_sections": [],
      "authorship_tag": "ABX9TyN61tQnHvU7Lzp64CFCtrxT",
      "include_colab_link": true
    },
    "kernelspec": {
      "name": "python3",
      "display_name": "Python 3"
    },
    "accelerator": "GPU"
  },
  "cells": [
    {
      "cell_type": "markdown",
      "metadata": {
        "id": "view-in-github",
        "colab_type": "text"
      },
      "source": [
        "<a href=\"https://colab.research.google.com/github/PinmanHuang/MLG/blob/master/DrBC.ipynb\" target=\"_parent\"><img src=\"https://colab.research.google.com/assets/colab-badge.svg\" alt=\"Open In Colab\"/></a>"
      ]
    },
    {
      "cell_type": "code",
      "metadata": {
        "id": "xwkLHFjOVh4F",
        "colab_type": "code",
        "colab": {}
      },
      "source": [
        "import torch"
      ],
      "execution_count": 0,
      "outputs": []
    },
    {
      "cell_type": "markdown",
      "metadata": {
        "id": "wIKe3FgGoJqz",
        "colab_type": "text"
      },
      "source": [
        "# Upload and Read Data\n",
        "\n"
      ]
    },
    {
      "cell_type": "code",
      "metadata": {
        "id": "ulr4F9tFbO2b",
        "colab_type": "code",
        "colab": {
          "resources": {
            "http://localhost:8080/nbextensions/google.colab/files.js": {
              "data": "Ly8gQ29weXJpZ2h0IDIwMTcgR29vZ2xlIExMQwovLwovLyBMaWNlbnNlZCB1bmRlciB0aGUgQXBhY2hlIExpY2Vuc2UsIFZlcnNpb24gMi4wICh0aGUgIkxpY2Vuc2UiKTsKLy8geW91IG1heSBub3QgdXNlIHRoaXMgZmlsZSBleGNlcHQgaW4gY29tcGxpYW5jZSB3aXRoIHRoZSBMaWNlbnNlLgovLyBZb3UgbWF5IG9idGFpbiBhIGNvcHkgb2YgdGhlIExpY2Vuc2UgYXQKLy8KLy8gICAgICBodHRwOi8vd3d3LmFwYWNoZS5vcmcvbGljZW5zZXMvTElDRU5TRS0yLjAKLy8KLy8gVW5sZXNzIHJlcXVpcmVkIGJ5IGFwcGxpY2FibGUgbGF3IG9yIGFncmVlZCB0byBpbiB3cml0aW5nLCBzb2Z0d2FyZQovLyBkaXN0cmlidXRlZCB1bmRlciB0aGUgTGljZW5zZSBpcyBkaXN0cmlidXRlZCBvbiBhbiAiQVMgSVMiIEJBU0lTLAovLyBXSVRIT1VUIFdBUlJBTlRJRVMgT1IgQ09ORElUSU9OUyBPRiBBTlkgS0lORCwgZWl0aGVyIGV4cHJlc3Mgb3IgaW1wbGllZC4KLy8gU2VlIHRoZSBMaWNlbnNlIGZvciB0aGUgc3BlY2lmaWMgbGFuZ3VhZ2UgZ292ZXJuaW5nIHBlcm1pc3Npb25zIGFuZAovLyBsaW1pdGF0aW9ucyB1bmRlciB0aGUgTGljZW5zZS4KCi8qKgogKiBAZmlsZW92ZXJ2aWV3IEhlbHBlcnMgZm9yIGdvb2dsZS5jb2xhYiBQeXRob24gbW9kdWxlLgogKi8KKGZ1bmN0aW9uKHNjb3BlKSB7CmZ1bmN0aW9uIHNwYW4odGV4dCwgc3R5bGVBdHRyaWJ1dGVzID0ge30pIHsKICBjb25zdCBlbGVtZW50ID0gZG9jdW1lbnQuY3JlYXRlRWxlbWVudCgnc3BhbicpOwogIGVsZW1lbnQudGV4dENvbnRlbnQgPSB0ZXh0OwogIGZvciAoY29uc3Qga2V5IG9mIE9iamVjdC5rZXlzKHN0eWxlQXR0cmlidXRlcykpIHsKICAgIGVsZW1lbnQuc3R5bGVba2V5XSA9IHN0eWxlQXR0cmlidXRlc1trZXldOwogIH0KICByZXR1cm4gZWxlbWVudDsKfQoKLy8gTWF4IG51bWJlciBvZiBieXRlcyB3aGljaCB3aWxsIGJlIHVwbG9hZGVkIGF0IGEgdGltZS4KY29uc3QgTUFYX1BBWUxPQURfU0laRSA9IDEwMCAqIDEwMjQ7Ci8vIE1heCBhbW91bnQgb2YgdGltZSB0byBibG9jayB3YWl0aW5nIGZvciB0aGUgdXNlci4KY29uc3QgRklMRV9DSEFOR0VfVElNRU9VVF9NUyA9IDMwICogMTAwMDsKCmZ1bmN0aW9uIF91cGxvYWRGaWxlcyhpbnB1dElkLCBvdXRwdXRJZCkgewogIGNvbnN0IHN0ZXBzID0gdXBsb2FkRmlsZXNTdGVwKGlucHV0SWQsIG91dHB1dElkKTsKICBjb25zdCBvdXRwdXRFbGVtZW50ID0gZG9jdW1lbnQuZ2V0RWxlbWVudEJ5SWQob3V0cHV0SWQpOwogIC8vIENhY2hlIHN0ZXBzIG9uIHRoZSBvdXRwdXRFbGVtZW50IHRvIG1ha2UgaXQgYXZhaWxhYmxlIGZvciB0aGUgbmV4dCBjYWxsCiAgLy8gdG8gdXBsb2FkRmlsZXNDb250aW51ZSBmcm9tIFB5dGhvbi4KICBvdXRwdXRFbGVtZW50LnN0ZXBzID0gc3RlcHM7CgogIHJldHVybiBfdXBsb2FkRmlsZXNDb250aW51ZShvdXRwdXRJZCk7Cn0KCi8vIFRoaXMgaXMgcm91Z2hseSBhbiBhc3luYyBnZW5lcmF0b3IgKG5vdCBzdXBwb3J0ZWQgaW4gdGhlIGJyb3dzZXIgeWV0KSwKLy8gd2hlcmUgdGhlcmUgYXJlIG11bHRpcGxlIGFzeW5jaHJvbm91cyBzdGVwcyBhbmQgdGhlIFB5dGhvbiBzaWRlIGlzIGdvaW5nCi8vIHRvIHBvbGwgZm9yIGNvbXBsZXRpb24gb2YgZWFjaCBzdGVwLgovLyBUaGlzIHVzZXMgYSBQcm9taXNlIHRvIGJsb2NrIHRoZSBweXRob24gc2lkZSBvbiBjb21wbGV0aW9uIG9mIGVhY2ggc3RlcCwKLy8gdGhlbiBwYXNzZXMgdGhlIHJlc3VsdCBvZiB0aGUgcHJldmlvdXMgc3RlcCBhcyB0aGUgaW5wdXQgdG8gdGhlIG5leHQgc3RlcC4KZnVuY3Rpb24gX3VwbG9hZEZpbGVzQ29udGludWUob3V0cHV0SWQpIHsKICBjb25zdCBvdXRwdXRFbGVtZW50ID0gZG9jdW1lbnQuZ2V0RWxlbWVudEJ5SWQob3V0cHV0SWQpOwogIGNvbnN0IHN0ZXBzID0gb3V0cHV0RWxlbWVudC5zdGVwczsKCiAgY29uc3QgbmV4dCA9IHN0ZXBzLm5leHQob3V0cHV0RWxlbWVudC5sYXN0UHJvbWlzZVZhbHVlKTsKICByZXR1cm4gUHJvbWlzZS5yZXNvbHZlKG5leHQudmFsdWUucHJvbWlzZSkudGhlbigodmFsdWUpID0+IHsKICAgIC8vIENhY2hlIHRoZSBsYXN0IHByb21pc2UgdmFsdWUgdG8gbWFrZSBpdCBhdmFpbGFibGUgdG8gdGhlIG5leHQKICAgIC8vIHN0ZXAgb2YgdGhlIGdlbmVyYXRvci4KICAgIG91dHB1dEVsZW1lbnQubGFzdFByb21pc2VWYWx1ZSA9IHZhbHVlOwogICAgcmV0dXJuIG5leHQudmFsdWUucmVzcG9uc2U7CiAgfSk7Cn0KCi8qKgogKiBHZW5lcmF0b3IgZnVuY3Rpb24gd2hpY2ggaXMgY2FsbGVkIGJldHdlZW4gZWFjaCBhc3luYyBzdGVwIG9mIHRoZSB1cGxvYWQKICogcHJvY2Vzcy4KICogQHBhcmFtIHtzdHJpbmd9IGlucHV0SWQgRWxlbWVudCBJRCBvZiB0aGUgaW5wdXQgZmlsZSBwaWNrZXIgZWxlbWVudC4KICogQHBhcmFtIHtzdHJpbmd9IG91dHB1dElkIEVsZW1lbnQgSUQgb2YgdGhlIG91dHB1dCBkaXNwbGF5LgogKiBAcmV0dXJuIHshSXRlcmFibGU8IU9iamVjdD59IEl0ZXJhYmxlIG9mIG5leHQgc3RlcHMuCiAqLwpmdW5jdGlvbiogdXBsb2FkRmlsZXNTdGVwKGlucHV0SWQsIG91dHB1dElkKSB7CiAgY29uc3QgaW5wdXRFbGVtZW50ID0gZG9jdW1lbnQuZ2V0RWxlbWVudEJ5SWQoaW5wdXRJZCk7CiAgaW5wdXRFbGVtZW50LmRpc2FibGVkID0gZmFsc2U7CgogIGNvbnN0IG91dHB1dEVsZW1lbnQgPSBkb2N1bWVudC5nZXRFbGVtZW50QnlJZChvdXRwdXRJZCk7CiAgb3V0cHV0RWxlbWVudC5pbm5lckhUTUwgPSAnJzsKCiAgY29uc3QgcGlja2VkUHJvbWlzZSA9IG5ldyBQcm9taXNlKChyZXNvbHZlKSA9PiB7CiAgICBpbnB1dEVsZW1lbnQuYWRkRXZlbnRMaXN0ZW5lcignY2hhbmdlJywgKGUpID0+IHsKICAgICAgcmVzb2x2ZShlLnRhcmdldC5maWxlcyk7CiAgICB9KTsKICB9KTsKCiAgY29uc3QgY2FuY2VsID0gZG9jdW1lbnQuY3JlYXRlRWxlbWVudCgnYnV0dG9uJyk7CiAgaW5wdXRFbGVtZW50LnBhcmVudEVsZW1lbnQuYXBwZW5kQ2hpbGQoY2FuY2VsKTsKICBjYW5jZWwudGV4dENvbnRlbnQgPSAnQ2FuY2VsIHVwbG9hZCc7CiAgY29uc3QgY2FuY2VsUHJvbWlzZSA9IG5ldyBQcm9taXNlKChyZXNvbHZlKSA9PiB7CiAgICBjYW5jZWwub25jbGljayA9ICgpID0+IHsKICAgICAgcmVzb2x2ZShudWxsKTsKICAgIH07CiAgfSk7CgogIC8vIENhbmNlbCB1cGxvYWQgaWYgdXNlciBoYXNuJ3QgcGlja2VkIGFueXRoaW5nIGluIHRpbWVvdXQuCiAgY29uc3QgdGltZW91dFByb21pc2UgPSBuZXcgUHJvbWlzZSgocmVzb2x2ZSkgPT4gewogICAgc2V0VGltZW91dCgoKSA9PiB7CiAgICAgIHJlc29sdmUobnVsbCk7CiAgICB9LCBGSUxFX0NIQU5HRV9USU1FT1VUX01TKTsKICB9KTsKCiAgLy8gV2FpdCBmb3IgdGhlIHVzZXIgdG8gcGljayB0aGUgZmlsZXMuCiAgY29uc3QgZmlsZXMgPSB5aWVsZCB7CiAgICBwcm9taXNlOiBQcm9taXNlLnJhY2UoW3BpY2tlZFByb21pc2UsIHRpbWVvdXRQcm9taXNlLCBjYW5jZWxQcm9taXNlXSksCiAgICByZXNwb25zZTogewogICAgICBhY3Rpb246ICdzdGFydGluZycsCiAgICB9CiAgfTsKCiAgaWYgKCFmaWxlcykgewogICAgcmV0dXJuIHsKICAgICAgcmVzcG9uc2U6IHsKICAgICAgICBhY3Rpb246ICdjb21wbGV0ZScsCiAgICAgIH0KICAgIH07CiAgfQoKICBjYW5jZWwucmVtb3ZlKCk7CgogIC8vIERpc2FibGUgdGhlIGlucHV0IGVsZW1lbnQgc2luY2UgZnVydGhlciBwaWNrcyBhcmUgbm90IGFsbG93ZWQuCiAgaW5wdXRFbGVtZW50LmRpc2FibGVkID0gdHJ1ZTsKCiAgZm9yIChjb25zdCBmaWxlIG9mIGZpbGVzKSB7CiAgICBjb25zdCBsaSA9IGRvY3VtZW50LmNyZWF0ZUVsZW1lbnQoJ2xpJyk7CiAgICBsaS5hcHBlbmQoc3BhbihmaWxlLm5hbWUsIHtmb250V2VpZ2h0OiAnYm9sZCd9KSk7CiAgICBsaS5hcHBlbmQoc3BhbigKICAgICAgICBgKCR7ZmlsZS50eXBlIHx8ICduL2EnfSkgLSAke2ZpbGUuc2l6ZX0gYnl0ZXMsIGAgKwogICAgICAgIGBsYXN0IG1vZGlmaWVkOiAkewogICAgICAgICAgICBmaWxlLmxhc3RNb2RpZmllZERhdGUgPyBmaWxlLmxhc3RNb2RpZmllZERhdGUudG9Mb2NhbGVEYXRlU3RyaW5nKCkgOgogICAgICAgICAgICAgICAgICAgICAgICAgICAgICAgICAgICAnbi9hJ30gLSBgKSk7CiAgICBjb25zdCBwZXJjZW50ID0gc3BhbignMCUgZG9uZScpOwogICAgbGkuYXBwZW5kQ2hpbGQocGVyY2VudCk7CgogICAgb3V0cHV0RWxlbWVudC5hcHBlbmRDaGlsZChsaSk7CgogICAgY29uc3QgZmlsZURhdGFQcm9taXNlID0gbmV3IFByb21pc2UoKHJlc29sdmUpID0+IHsKICAgICAgY29uc3QgcmVhZGVyID0gbmV3IEZpbGVSZWFkZXIoKTsKICAgICAgcmVhZGVyLm9ubG9hZCA9IChlKSA9PiB7CiAgICAgICAgcmVzb2x2ZShlLnRhcmdldC5yZXN1bHQpOwogICAgICB9OwogICAgICByZWFkZXIucmVhZEFzQXJyYXlCdWZmZXIoZmlsZSk7CiAgICB9KTsKICAgIC8vIFdhaXQgZm9yIHRoZSBkYXRhIHRvIGJlIHJlYWR5LgogICAgbGV0IGZpbGVEYXRhID0geWllbGQgewogICAgICBwcm9taXNlOiBmaWxlRGF0YVByb21pc2UsCiAgICAgIHJlc3BvbnNlOiB7CiAgICAgICAgYWN0aW9uOiAnY29udGludWUnLAogICAgICB9CiAgICB9OwoKICAgIC8vIFVzZSBhIGNodW5rZWQgc2VuZGluZyB0byBhdm9pZCBtZXNzYWdlIHNpemUgbGltaXRzLiBTZWUgYi82MjExNTY2MC4KICAgIGxldCBwb3NpdGlvbiA9IDA7CiAgICB3aGlsZSAocG9zaXRpb24gPCBmaWxlRGF0YS5ieXRlTGVuZ3RoKSB7CiAgICAgIGNvbnN0IGxlbmd0aCA9IE1hdGgubWluKGZpbGVEYXRhLmJ5dGVMZW5ndGggLSBwb3NpdGlvbiwgTUFYX1BBWUxPQURfU0laRSk7CiAgICAgIGNvbnN0IGNodW5rID0gbmV3IFVpbnQ4QXJyYXkoZmlsZURhdGEsIHBvc2l0aW9uLCBsZW5ndGgpOwogICAgICBwb3NpdGlvbiArPSBsZW5ndGg7CgogICAgICBjb25zdCBiYXNlNjQgPSBidG9hKFN0cmluZy5mcm9tQ2hhckNvZGUuYXBwbHkobnVsbCwgY2h1bmspKTsKICAgICAgeWllbGQgewogICAgICAgIHJlc3BvbnNlOiB7CiAgICAgICAgICBhY3Rpb246ICdhcHBlbmQnLAogICAgICAgICAgZmlsZTogZmlsZS5uYW1lLAogICAgICAgICAgZGF0YTogYmFzZTY0LAogICAgICAgIH0sCiAgICAgIH07CiAgICAgIHBlcmNlbnQudGV4dENvbnRlbnQgPQogICAgICAgICAgYCR7TWF0aC5yb3VuZCgocG9zaXRpb24gLyBmaWxlRGF0YS5ieXRlTGVuZ3RoKSAqIDEwMCl9JSBkb25lYDsKICAgIH0KICB9CgogIC8vIEFsbCBkb25lLgogIHlpZWxkIHsKICAgIHJlc3BvbnNlOiB7CiAgICAgIGFjdGlvbjogJ2NvbXBsZXRlJywKICAgIH0KICB9Owp9CgpzY29wZS5nb29nbGUgPSBzY29wZS5nb29nbGUgfHwge307CnNjb3BlLmdvb2dsZS5jb2xhYiA9IHNjb3BlLmdvb2dsZS5jb2xhYiB8fCB7fTsKc2NvcGUuZ29vZ2xlLmNvbGFiLl9maWxlcyA9IHsKICBfdXBsb2FkRmlsZXMsCiAgX3VwbG9hZEZpbGVzQ29udGludWUsCn07Cn0pKHNlbGYpOwo=",
              "ok": true,
              "headers": [
                [
                  "content-type",
                  "application/javascript"
                ]
              ],
              "status": 200,
              "status_text": ""
            }
          },
          "base_uri": "https://localhost:8080/",
          "height": 105
        },
        "outputId": "7b00d4df-13dc-479f-ac6d-6cae1286d059"
      },
      "source": [
        "# upload file into colab\n",
        "from google.colab import files\n",
        "uploaded = files.upload()"
      ],
      "execution_count": 2,
      "outputs": [
        {
          "output_type": "display_data",
          "data": {
            "text/html": [
              "\n",
              "     <input type=\"file\" id=\"files-5f087778-0c25-4954-bec0-f59c5dd21e88\" name=\"files[]\" multiple disabled />\n",
              "     <output id=\"result-5f087778-0c25-4954-bec0-f59c5dd21e88\">\n",
              "      Upload widget is only available when the cell has been executed in the\n",
              "      current browser session. Please rerun this cell to enable.\n",
              "      </output>\n",
              "      <script src=\"/nbextensions/google.colab/files.js\"></script> "
            ],
            "text/plain": [
              "<IPython.core.display.HTML object>"
            ]
          },
          "metadata": {
            "tags": []
          }
        },
        {
          "output_type": "stream",
          "text": [
            "Saving 0_score.txt to 0_score.txt\n",
            "Saving 0.txt to 0.txt\n"
          ],
          "name": "stdout"
        }
      ]
    },
    {
      "cell_type": "code",
      "metadata": {
        "id": "t94L-842l27d",
        "colab_type": "code",
        "colab": {}
      },
      "source": [
        "# read upload data\n",
        "import io\n",
        "from numpy import genfromtxt\n",
        "my_data = genfromtxt(io.BytesIO(uploaded['0.txt']), delimiter='\\t')\n",
        "ground_truth = genfromtxt(io.BytesIO(uploaded['0_score.txt']), delimiter='\\t')"
      ],
      "execution_count": 0,
      "outputs": []
    },
    {
      "cell_type": "markdown",
      "metadata": {
        "id": "btZJtSt1ti6w",
        "colab_type": "text"
      },
      "source": [
        "# Data\n",
        "\n",
        "##### Input\n",
        "\n",
        "*   \\\\( G=(V, E) \\\\)\n",
        "*   \\\\( X_v = \\left[ d_v, 1, 1 \\right] \\\\)\n",
        "*   \\\\( h_v^{\\left ( 0\\right )} = X_v \\\\)\n",
        "\n",
        "\n"
      ]
    },
    {
      "cell_type": "code",
      "metadata": {
        "id": "hJ1MmbCA9vkr",
        "colab_type": "code",
        "colab": {}
      },
      "source": [
        "import networkx as nx\n",
        "\n",
        "# calculate node degree\n",
        "def cal_degree(graph): \n",
        "    G = nx.Graph()\n",
        "    for val in graph:\n",
        "        G.add_edge(val[0], val[1])\n",
        "\n",
        "    return G.degree(), G\n",
        "\n",
        "# create X = hv(0)\n",
        "def create_features(graph):\n",
        "    d, G = cal_degree(graph)\n",
        "    X_ary = []\n",
        "    Y_ary = []\n",
        "    for i in range(len(d)):\n",
        "        X_ary.append([d[i], 1, 1])\n",
        "        Y_ary.append([ground_truth[i, 1]])\n",
        "    X = torch.tensor(X_ary, dtype=torch.float32)\n",
        "    Y = torch.tensor(Y_ary, dtype=torch.float32)\n",
        "    return G, d, X, Y\n",
        "\n",
        "def create_data_from_graph(graph):\n",
        "    d = graph.degree()\n",
        "    X_ary = []\n",
        "    for i in range(len(d)):\n",
        "        X_ary.append([d[i], 1, 1])\n",
        "    X = torch.tensor(X_ary, dtype=torch.float32)\n",
        "    return X"
      ],
      "execution_count": 0,
      "outputs": []
    },
    {
      "cell_type": "code",
      "metadata": {
        "id": "XFhbYcCXwTKK",
        "colab_type": "code",
        "colab": {}
      },
      "source": [
        "G, d, X, Y = create_features(my_data)\n",
        "node_num = len(X)"
      ],
      "execution_count": 0,
      "outputs": []
    },
    {
      "cell_type": "markdown",
      "metadata": {
        "id": "giSrepphwdGQ",
        "colab_type": "text"
      },
      "source": [
        "# DrBC Network\n",
        "\n",
        "\n",
        "\n"
      ]
    },
    {
      "cell_type": "code",
      "metadata": {
        "id": "o3oonH8NpfgL",
        "colab_type": "code",
        "colab": {}
      },
      "source": [
        "class DrBCNet(torch.nn.Module):\n",
        "    def __init__(self, D_in = 3, H = 2, num_units = 128):\n",
        "        super(DrBCNet, self).__init__()\n",
        "\n",
        "        self.D_in = D_in\n",
        "        self.H = H\n",
        "        self.num_units = num_units\n",
        "\n",
        "        self.fc1 = torch.nn.Linear(self.D_in, self.num_units, bias=False)\n",
        "        self.gru1 = torch.nn.GRUCell(self.num_units, self.num_units, bias=False)\n",
        "        self.gru2 = torch.nn.GRUCell(self.num_units, self.num_units, bias=False)\n",
        "        self.fc2 = torch.nn.Linear(self.num_units, int(self.num_units / 2), bias=False)\n",
        "        self.fc3 = torch.nn.Linear(int(self.num_units / 2), 1, bias=False)\n",
        "\n",
        "        self.degree = None\n",
        "        self.neighbor = None\n",
        "        self.aggregation_w = None\n",
        "        \n",
        "\n",
        "    def set_graph(self, graph):\n",
        "        node_num = len(list(graph.nodes))\n",
        "        self.degree = graph.degree()\n",
        "\n",
        "        # matrix of neighborhood\n",
        "        self.neighbor = torch.zeros([node_num, node_num], dtype=torch.float32)\n",
        "        e = [e for e in graph.edges]\n",
        "        for node in e[:5]:\n",
        "            self.neighbor[int(node[0]), int(node[1])] = self.neighbor[int(node[1]), int(node[0])] = 1\n",
        "\n",
        "        # matrix of aggregation weight\n",
        "        self.aggregation_w = torch.zeros([node_num, node_num], dtype=torch.float32)\n",
        "        for i in range(node_num):\n",
        "            di = float(self.degree[i])\n",
        "            # if i%500 == 0:\n",
        "            #     print(\"calculating aggregation weights: {}/{}\".format(i, node_num))\n",
        "            for j in range (i):\n",
        "                dj = float(self.degree[j])\n",
        "                self.aggregation_w[i, j] = self.aggregation_w[j, i] = 1/(((dj+1)**0.5) * ((di+1)**0.5))\n",
        "        \n",
        "\n",
        "    def forward(self, x):\n",
        "        # Encoding\n",
        "        # ======================================================================\n",
        "        # Initial Feature\n",
        "        h0 = x\n",
        "        h1 = self.fc1(h0).clamp(min=0)\n",
        "        h1 = torch.nn.functional.normalize(h1)\n",
        "\n",
        "        # 1st layer\n",
        "        ##########################\n",
        "        # Neighborhood Aggregation\n",
        "        h2n = torch.mm(self.neighbor * self.aggregation_w, h1)\n",
        "        # Combine Function\n",
        "        h2 = self.gru1(h1, h2n)\n",
        "        h2 = torch.nn.functional.normalize(h2)\n",
        "\n",
        "        # 2nd layer\n",
        "        ##########################\n",
        "        # Neighborhood Aggregation\n",
        "        h3n = torch.mm(self.neighbor * self.aggregation_w, h2)\n",
        "        # Combine Function\n",
        "        h3 = self.gru2(h2, h3n)\n",
        "        h3 = torch.nn.functional.normalize(h3)\n",
        "\n",
        "        # Layer Aggregation\n",
        "        z = torch.max(torch.max(h1, h2), h3)\n",
        "\n",
        "        # Decoder\n",
        "        # ======================================================================\n",
        "        y = self.fc2(z).clamp(min=0)\n",
        "        y = self.fc3(y)\n",
        "\n",
        "        return y"
      ],
      "execution_count": 0,
      "outputs": []
    },
    {
      "cell_type": "markdown",
      "metadata": {
        "id": "uIipqVdEzGwt",
        "colab_type": "text"
      },
      "source": [
        "# Loss Function"
      ]
    },
    {
      "cell_type": "code",
      "metadata": {
        "id": "CCbu_nH0zIhO",
        "colab_type": "code",
        "colab": {}
      },
      "source": [
        ""
      ],
      "execution_count": 0,
      "outputs": []
    },
    {
      "cell_type": "markdown",
      "metadata": {
        "id": "s1Dgkk4-IOHx",
        "colab_type": "text"
      },
      "source": [
        "# Training"
      ]
    },
    {
      "cell_type": "code",
      "metadata": {
        "id": "l4Js9JCgzWRG",
        "colab_type": "code",
        "colab": {}
      },
      "source": [
        "# Training Parameters\n",
        "EPOCHS = 20             #20\n",
        "LEARNING_RATE = 0.0001\n",
        "\n",
        "# Graph Parameters\n",
        "TRAINING_GRAPH = 10     #10\n",
        "GRAPH_NODE = 1000       #1000\n",
        "GRAPH_EDGE = 4\n",
        "GRAPH_PROBABILITY = 0.05"
      ],
      "execution_count": 0,
      "outputs": []
    },
    {
      "cell_type": "code",
      "metadata": {
        "id": "l5x02NWpdyqH",
        "colab_type": "code",
        "colab": {}
      },
      "source": [
        "# validation\n",
        "G_val = nx.generators.random_graphs.powerlaw_cluster_graph(1000, 4, 0.05)\n",
        "X_val = create_data_from_graph(G_val)\n",
        "Y_val = torch.Tensor(list(nx.betweenness_centrality(G_val).values())).unsqueeze(1)      # ground truth"
      ],
      "execution_count": 0,
      "outputs": []
    },
    {
      "cell_type": "code",
      "metadata": {
        "id": "12DluDBn6tkx",
        "colab_type": "code",
        "outputId": "eb341864-b886-4dbb-b078-4885a6b29d6b",
        "colab": {
          "base_uri": "https://localhost:8080/",
          "height": 136
        }
      },
      "source": [
        "model = DrBCNet()\n",
        "print(model)\n",
        "\n",
        "# optimizer\n",
        "optimizer = torch.optim.Adam(model.parameters(), lr=LEARNING_RATE)"
      ],
      "execution_count": 8,
      "outputs": [
        {
          "output_type": "stream",
          "text": [
            "DrBCNet(\n",
            "  (fc1): Linear(in_features=3, out_features=128, bias=False)\n",
            "  (gru1): GRUCell(128, 128, bias=False)\n",
            "  (gru2): GRUCell(128, 128, bias=False)\n",
            "  (fc2): Linear(in_features=128, out_features=64, bias=False)\n",
            "  (fc3): Linear(in_features=64, out_features=1, bias=False)\n",
            ")\n"
          ],
          "name": "stdout"
        }
      ]
    },
    {
      "cell_type": "code",
      "metadata": {
        "id": "4q98FQWHzPk9",
        "colab_type": "code",
        "outputId": "2dba30dd-a145-4d87-95e8-cd2389537546",
        "colab": {
          "base_uri": "https://localhost:8080/",
          "height": 697
        }
      },
      "source": [
        "# loss history data\n",
        "loss_history = torch.zeros([TRAINING_GRAPH * EPOCHS])\n",
        "loss_val_history = torch.zeros([TRAINING_GRAPH])\n",
        "\n",
        "for g in range(TRAINING_GRAPH):\n",
        "    print(\"===== TRAINING #{} graph ======\".format(g+1))\n",
        "\n",
        "    # new graph\n",
        "    G = nx.generators.random_graphs.powerlaw_cluster_graph(GRAPH_NODE, GRAPH_EDGE, GRAPH_PROBABILITY)\n",
        "    X = create_data_from_graph(G)\n",
        "    Y = torch.Tensor(list(nx.betweenness_centrality(G).values())).unsqueeze(1)      # ground truth\n",
        "    model.set_graph(G)\n",
        "\n",
        "    # training\n",
        "    for i in range(EPOCHS):\n",
        "        optimizer.zero_grad()\n",
        "        y_pred = model(X)\n",
        "        loss = torch.sum(torch.abs(torch.nn.functional.softmax(y_pred, dim=0) - torch.nn.functional.softmax(Y, dim=0)))\n",
        "        loss_history[g*EPOCHS + i] = loss\n",
        "        if i == 0 or i == EPOCHS-1:\n",
        "            print(\"GRAPH #{} EPOCH {}'s loss: {}\".format(g+1, i+1, loss))\n",
        "        loss.backward()\n",
        "        optimizer.step()\n",
        "        \n",
        "    # validation\n",
        "    model.set_graph(G_val)\n",
        "    y_val_pred = model(X_val)\n",
        "    loss_val = torch.sum(torch.abs(torch.nn.functional.softmax(y_val_pred, dim=0) - torch.nn.functional.softmax(Y_val, dim=0)))\n",
        "    loss_val_history[g] = loss_val\n",
        "    print(\"GRAPH #{} val_loss: {}\".format(g+1, loss_val))"
      ],
      "execution_count": 9,
      "outputs": [
        {
          "output_type": "stream",
          "text": [
            "===== TRAINING #1 graph ======\n",
            "GRAPH #1 EPOCH 1's loss: 0.006281234323978424\n",
            "GRAPH #1 EPOCH 20's loss: 0.001904590055346489\n",
            "GRAPH #1 val_loss: 0.0018431026255711913\n",
            "===== TRAINING #2 graph ======\n",
            "GRAPH #2 EPOCH 1's loss: 0.0018261398654431105\n",
            "GRAPH #2 EPOCH 20's loss: 0.001582403085194528\n",
            "GRAPH #2 val_loss: 0.0016069926787167788\n",
            "===== TRAINING #3 graph ======\n",
            "GRAPH #3 EPOCH 1's loss: 0.001607075217179954\n",
            "GRAPH #3 EPOCH 20's loss: 0.0014607830671593547\n",
            "GRAPH #3 val_loss: 0.0014577649999409914\n",
            "===== TRAINING #4 graph ======\n",
            "GRAPH #4 EPOCH 1's loss: 0.0015493282116949558\n",
            "GRAPH #4 EPOCH 20's loss: 0.0014219515724107623\n",
            "GRAPH #4 val_loss: 0.001311127794906497\n",
            "===== TRAINING #5 graph ======\n",
            "GRAPH #5 EPOCH 1's loss: 0.0014451239258050919\n",
            "GRAPH #5 EPOCH 20's loss: 0.0013771193334832788\n",
            "GRAPH #5 val_loss: 0.0012039036955684423\n",
            "===== TRAINING #6 graph ======\n",
            "GRAPH #6 EPOCH 1's loss: 0.001306804595515132\n",
            "GRAPH #6 EPOCH 20's loss: 0.0012204203521832824\n",
            "GRAPH #6 val_loss: 0.00108087167609483\n",
            "===== TRAINING #7 graph ======\n",
            "GRAPH #7 EPOCH 1's loss: 0.001310708117671311\n",
            "GRAPH #7 EPOCH 20's loss: 0.0012103671906515956\n",
            "GRAPH #7 val_loss: 0.0009412441868335009\n",
            "===== TRAINING #8 graph ======\n",
            "GRAPH #8 EPOCH 1's loss: 0.0011145946336910129\n",
            "GRAPH #8 EPOCH 20's loss: 0.0010593538172543049\n",
            "GRAPH #8 val_loss: 0.0009208481060341001\n",
            "===== TRAINING #9 graph ======\n",
            "GRAPH #9 EPOCH 1's loss: 0.0009788739262148738\n",
            "GRAPH #9 EPOCH 20's loss: 0.000854004523716867\n",
            "GRAPH #9 val_loss: 0.0008034587372094393\n",
            "===== TRAINING #10 graph ======\n",
            "GRAPH #10 EPOCH 1's loss: 0.001001332071609795\n",
            "GRAPH #10 EPOCH 20's loss: 0.0009314313065260649\n",
            "GRAPH #10 val_loss: 0.0007472858997061849\n"
          ],
          "name": "stdout"
        }
      ]
    },
    {
      "cell_type": "code",
      "metadata": {
        "id": "Afe6Q71pF9IB",
        "colab_type": "code",
        "colab": {}
      },
      "source": [
        "# Save Model\n",
        "torch.save(model.state_dict(), \"drbc.pt\")"
      ],
      "execution_count": 0,
      "outputs": []
    },
    {
      "cell_type": "code",
      "metadata": {
        "id": "NoBlcnwfGe6w",
        "colab_type": "code",
        "colab": {
          "base_uri": "https://localhost:8080/",
          "height": 136
        },
        "outputId": "234fbf99-f5ce-46e9-c1b6-04ee4f32dde0"
      },
      "source": [
        "# Load Model\n",
        "model.load_state_dict(torch.load(\"drbc.pt\"))\n",
        "print(model)"
      ],
      "execution_count": 11,
      "outputs": [
        {
          "output_type": "stream",
          "text": [
            "DrBCNet(\n",
            "  (fc1): Linear(in_features=3, out_features=128, bias=False)\n",
            "  (gru1): GRUCell(128, 128, bias=False)\n",
            "  (gru2): GRUCell(128, 128, bias=False)\n",
            "  (fc2): Linear(in_features=128, out_features=64, bias=False)\n",
            "  (fc3): Linear(in_features=64, out_features=1, bias=False)\n",
            ")\n"
          ],
          "name": "stdout"
        }
      ]
    },
    {
      "cell_type": "markdown",
      "metadata": {
        "id": "dXVvJTPCdn_i",
        "colab_type": "text"
      },
      "source": [
        "# Plot"
      ]
    },
    {
      "cell_type": "code",
      "metadata": {
        "id": "cR7MKUAcdmcw",
        "colab_type": "code",
        "colab": {}
      },
      "source": [
        "import matplotlib.pyplot as plt\n",
        "import numpy as np\n",
        "\n",
        "def plot_loss(loss, loss_val):\n",
        "    x = [i+1 for i in range(len(loss))]\n",
        "\n",
        "    plt.plot(np.arange(1, EPOCHS*TRAINING_GRAPH+1, 1), loss.detach().numpy(), label=\"training loss\")\n",
        "    plt.plot(np.arange(EPOCHS, EPOCHS*TRAINING_GRAPH+1, EPOCHS), loss_val.detach().numpy(), label=\"validation loss\")\n",
        "    plt.legend()\n",
        "\n",
        "    plt.title(\"Loss\")\n",
        "    plt.xlabel(\"Epoch #\")\n",
        "    plt.ylabel(\"loss\")"
      ],
      "execution_count": 0,
      "outputs": []
    },
    {
      "cell_type": "code",
      "metadata": {
        "id": "vp1MtPHIgrHQ",
        "colab_type": "code",
        "outputId": "9d1791ab-2312-4635-f5d8-55c4313c9243",
        "colab": {
          "base_uri": "https://localhost:8080/",
          "height": 295
        }
      },
      "source": [
        "plot_loss(loss_history, loss_val_history)"
      ],
      "execution_count": 0,
      "outputs": [
        {
          "output_type": "display_data",
          "data": {
            "image/png": "[encoded data removed]",
            "text/plain": [
              "<Figure size 432x288 with 1 Axes>"
            ]
          },
          "metadata": {
            "tags": []
          }
        }
      ]
    },
    {
      "cell_type": "markdown",
      "metadata": {
        "id": "xfIqmiyTcKfo",
        "colab_type": "text"
      },
      "source": [
        "# To Do\n",
        "\n",
        "- [ ] Pairwise Ranking Loss\n",
        "- [X] Save Model\n",
        "- [ ] Testing Synthetic Data"
      ]
    },
    {
      "cell_type": "code",
      "metadata": {
        "id": "fiBjveOodHIP",
        "colab_type": "code",
        "colab": {}
      },
      "source": [
        ""
      ],
      "execution_count": 0,
      "outputs": []
    }
  ]
}